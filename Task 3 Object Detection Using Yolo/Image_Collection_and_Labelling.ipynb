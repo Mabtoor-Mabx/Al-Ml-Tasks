{
 "cells": [
  {
   "cell_type": "markdown",
   "id": "a8611080",
   "metadata": {},
   "source": [
    "### 1-Import Dependencies"
   ]
  },
  {
   "cell_type": "code",
   "execution_count": 1,
   "id": "37a3fd5b",
   "metadata": {},
   "outputs": [
    {
     "name": "stdout",
     "output_type": "stream",
     "text": [
      "Requirement already satisfied: opencv-python in e:\\tensorflow object detection\\build_tfod_models\\lib\\site-packages (4.6.0.66)\n",
      "Requirement already satisfied: numpy>=1.19.3 in e:\\tensorflow object detection\\build_tfod_models\\lib\\site-packages (from opencv-python) (1.23.1)\n"
     ]
    }
   ],
   "source": [
    "!pip install opencv-python"
   ]
  },
  {
   "cell_type": "code",
   "execution_count": 2,
   "id": "aa60fca9",
   "metadata": {},
   "outputs": [],
   "source": [
    "# Import opencv\n",
    "import cv2 \n",
    "\n",
    "# Import uuid\n",
    "import uuid\n",
    "\n",
    "# Import Operating System\n",
    "import os\n",
    "\n",
    "# Import time\n",
    "import time"
   ]
  },
  {
   "cell_type": "markdown",
   "id": "f81f042b",
   "metadata": {},
   "source": [
    "### 2-Define What Type of Images You want to collect"
   ]
  },
  {
   "cell_type": "code",
   "execution_count": 3,
   "id": "dc773dde",
   "metadata": {},
   "outputs": [],
   "source": [
    "labels = ['thumbsup', 'thumbsdown', 'fivefingers', 'victory']\n",
    "number_imgs = 5"
   ]
  },
  {
   "cell_type": "markdown",
   "id": "94d1217e",
   "metadata": {},
   "source": [
    "### 3-Setup The Folders "
   ]
  },
  {
   "cell_type": "code",
   "execution_count": 4,
   "id": "eaee3b2c",
   "metadata": {},
   "outputs": [],
   "source": [
    "IMAGES_PATH = os.path.join('Tensorflow', 'images', 'collectedimages')"
   ]
  },
  {
   "cell_type": "code",
   "execution_count": 5,
   "id": "c04188b5",
   "metadata": {},
   "outputs": [],
   "source": [
    "if not os.path.exists(IMAGES_PATH):\n",
    "    if os.name == 'posix':\n",
    "        !mkdir -p {IMAGES_PATH}\n",
    "    if os.name == 'nt':\n",
    "         !mkdir {IMAGES_PATH}\n",
    "for label in labels:\n",
    "    path = os.path.join(IMAGES_PATH, label)\n",
    "    if not os.path.exists(path):\n",
    "        !mkdir {path}"
   ]
  },
  {
   "cell_type": "markdown",
   "id": "03c24432",
   "metadata": {},
   "source": [
    "### 4- Capturing The Images"
   ]
  },
  {
   "cell_type": "code",
   "execution_count": 6,
   "id": "fe6eb943",
   "metadata": {},
   "outputs": [
    {
     "name": "stdout",
     "output_type": "stream",
     "text": [
      "Collecting images for thumbsup\n",
      "Collecting image 0\n",
      "Collecting image 1\n",
      "Collecting image 2\n",
      "Collecting image 3\n",
      "Collecting image 4\n",
      "Collecting images for thumbsdown\n",
      "Collecting image 0\n",
      "Collecting image 1\n",
      "Collecting image 2\n",
      "Collecting image 3\n",
      "Collecting image 4\n",
      "Collecting images for fivefingers\n",
      "Collecting image 0\n",
      "Collecting image 1\n",
      "Collecting image 2\n",
      "Collecting image 3\n",
      "Collecting image 4\n",
      "Collecting images for victory\n",
      "Collecting image 0\n",
      "Collecting image 1\n",
      "Collecting image 2\n",
      "Collecting image 3\n",
      "Collecting image 4\n"
     ]
    }
   ],
   "source": [
    "for label in labels:\n",
    "    cap = cv2.VideoCapture(0)\n",
    "    print('Collecting images for {}'.format(label))\n",
    "    time.sleep(5)\n",
    "    for imgnum in range(number_imgs):\n",
    "        print('Collecting image {}'.format(imgnum))\n",
    "        ret, frame = cap.read()\n",
    "        imgname = os.path.join(IMAGES_PATH,label,label+'.'+'{}.jpg'.format(str(uuid.uuid1())))\n",
    "        cv2.imwrite(imgname, frame)\n",
    "        cv2.imshow('frame', frame)\n",
    "        time.sleep(2)\n",
    "\n",
    "        if cv2.waitKey(1) & 0xFF == ord('q'):\n",
    "            break\n",
    "cap.release()\n",
    "cv2.destroyAllWindows()"
   ]
  },
  {
   "cell_type": "markdown",
   "id": "6393aa27",
   "metadata": {},
   "source": [
    "### 5-  Labelling The Images Using Labelmg"
   ]
  },
  {
   "cell_type": "code",
   "execution_count": 7,
   "id": "32af3772",
   "metadata": {},
   "outputs": [
    {
     "name": "stdout",
     "output_type": "stream",
     "text": [
      "Requirement already satisfied: pyqt5 in e:\\tensorflow object detection\\build_tfod_models\\lib\\site-packages (5.15.7)\n",
      "Requirement already satisfied: lxml in e:\\tensorflow object detection\\build_tfod_models\\lib\\site-packages (4.9.1)\n",
      "Requirement already satisfied: PyQt5-sip<13,>=12.11 in e:\\tensorflow object detection\\build_tfod_models\\lib\\site-packages (from pyqt5) (12.11.0)\n",
      "Requirement already satisfied: PyQt5-Qt5>=5.15.0 in e:\\tensorflow object detection\\build_tfod_models\\lib\\site-packages (from pyqt5) (5.15.2)\n"
     ]
    }
   ],
   "source": [
    "!pip install --upgrade pyqt5 lxml"
   ]
  },
  {
   "cell_type": "code",
   "execution_count": 8,
   "id": "b77b7965",
   "metadata": {},
   "outputs": [],
   "source": [
    "LABELIMG_PATH = os.path.join('Tensorflow', 'labelimg')"
   ]
  },
  {
   "cell_type": "code",
   "execution_count": 9,
   "id": "d02765e8",
   "metadata": {},
   "outputs": [],
   "source": [
    "if not os.path.exists(LABELIMG_PATH):\n",
    "    !mkdir {LABELIMG_PATH}\n",
    "    !git clone https://github.com/tzutalin/labelImg {LABELIMG_PATH}"
   ]
  },
  {
   "cell_type": "code",
   "execution_count": 10,
   "id": "5613a87a",
   "metadata": {},
   "outputs": [],
   "source": [
    "if os.name == 'posix':\n",
    "    !make qt5py3\n",
    "if os.name =='nt':\n",
    "    !cd {LABELIMG_PATH} && pyrcc5 -o libs/resources.py resources.qrc"
   ]
  },
  {
   "cell_type": "code",
   "execution_count": 11,
   "id": "693e013c",
   "metadata": {},
   "outputs": [
    {
     "name": "stdout",
     "output_type": "stream",
     "text": [
      "Image:E:\\Tensorflow Object Detection\\Build_TFOD_Models\\Tensorflow\\images\\collectedimages\\fivefingers\\fivefingers.3b669dae-05cb-11ed-90f6-34e6d708e641.jpg -> Annotation:E:/Tensorflow Object Detection/Build_TFOD_Models/Tensorflow/images/collectedimages/fivefingers\\fivefingers.3b669dae-05cb-11ed-90f6-34e6d708e641.xml\n",
      "Image:E:\\Tensorflow Object Detection\\Build_TFOD_Models\\Tensorflow\\images\\collectedimages\\fivefingers\\fivefingers.3b669dae-05cb-11ed-90f6-34e6d708e641.jpg -> Annotation:E:/Tensorflow Object Detection/Build_TFOD_Models/Tensorflow/images/collectedimages/fivefingers\\fivefingers.3b669dae-05cb-11ed-90f6-34e6d708e641.xml\n",
      "Image:E:\\Tensorflow Object Detection\\Build_TFOD_Models\\Tensorflow\\images\\collectedimages\\fivefingers\\fivefingers.3ca0869b-05cb-11ed-9536-34e6d708e641.jpg -> Annotation:E:/Tensorflow Object Detection/Build_TFOD_Models/Tensorflow/images/collectedimages/fivefingers\\fivefingers.3ca0869b-05cb-11ed-9536-34e6d708e641.xml\n",
      "Image:E:\\Tensorflow Object Detection\\Build_TFOD_Models\\Tensorflow\\images\\collectedimages\\fivefingers\\fivefingers.3dd957d4-05cb-11ed-bdec-34e6d708e641.jpg -> Annotation:E:/Tensorflow Object Detection/Build_TFOD_Models/Tensorflow/images/collectedimages/fivefingers\\fivefingers.3dd957d4-05cb-11ed-bdec-34e6d708e641.xml\n",
      "Image:E:\\Tensorflow Object Detection\\Build_TFOD_Models\\Tensorflow\\images\\collectedimages\\fivefingers\\fivefingers.3f1414e0-05cb-11ed-9092-34e6d708e641.jpg -> Annotation:E:/Tensorflow Object Detection/Build_TFOD_Models/Tensorflow/images/collectedimages/fivefingers\\fivefingers.3f1414e0-05cb-11ed-9092-34e6d708e641.xml\n",
      "Image:E:\\Tensorflow Object Detection\\Build_TFOD_Models\\Tensorflow\\images\\collectedimages\\fivefingers\\fivefingers.404dee82-05cb-11ed-a4ed-34e6d708e641.jpg -> Annotation:E:/Tensorflow Object Detection/Build_TFOD_Models/Tensorflow/images/collectedimages/fivefingers\\fivefingers.404dee82-05cb-11ed-a4ed-34e6d708e641.xml\n",
      "Image:E:\\Tensorflow Object Detection\\Build_TFOD_Models\\Tensorflow\\images\\collectedimages\\thumbsdown\\thumbsdown.33a8aa6c-05cb-11ed-878b-34e6d708e641.jpg -> Annotation:E:/Tensorflow Object Detection/Build_TFOD_Models/Tensorflow/images/collectedimages/thumbsdown\\thumbsdown.33a8aa6c-05cb-11ed-878b-34e6d708e641.xml\n",
      "Image:E:\\Tensorflow Object Detection\\Build_TFOD_Models\\Tensorflow\\images\\collectedimages\\thumbsdown\\thumbsdown.3619b141-05cb-11ed-95d2-34e6d708e641.jpg -> Annotation:E:/Tensorflow Object Detection/Build_TFOD_Models/Tensorflow/images/collectedimages/thumbsdown\\thumbsdown.3619b141-05cb-11ed-95d2-34e6d708e641.xml\n",
      "Image:E:\\Tensorflow Object Detection\\Build_TFOD_Models\\Tensorflow\\images\\collectedimages\\thumbsdown\\thumbsdown.3137ce78-05cb-11ed-963e-34e6d708e641.jpg -> Annotation:E:/Tensorflow Object Detection/Build_TFOD_Models/Tensorflow/images/collectedimages/thumbsdown\\thumbsdown.3137ce78-05cb-11ed-963e-34e6d708e641.xml\n",
      "Image:E:\\Tensorflow Object Detection\\Build_TFOD_Models\\Tensorflow\\images\\collectedimages\\thumbsdown\\thumbsdown.326f6b61-05cb-11ed-9668-34e6d708e641.jpg -> Annotation:E:/Tensorflow Object Detection/Build_TFOD_Models/Tensorflow/images/collectedimages/thumbsdown\\thumbsdown.326f6b61-05cb-11ed-9668-34e6d708e641.xml\n",
      "Image:E:\\Tensorflow Object Detection\\Build_TFOD_Models\\Tensorflow\\images\\collectedimages\\thumbsdown\\thumbsdown.34e0db7f-05cb-11ed-849e-34e6d708e641.jpg -> Annotation:E:/Tensorflow Object Detection/Build_TFOD_Models/Tensorflow/images/collectedimages/thumbsdown\\thumbsdown.34e0db7f-05cb-11ed-849e-34e6d708e641.xml\n",
      "Image:E:\\Tensorflow Object Detection\\Build_TFOD_Models\\Tensorflow\\images\\collectedimages\\thumbsup\\thumbsup.2abdcd80-05cb-11ed-862c-34e6d708e641.jpg -> Annotation:E:/Tensorflow Object Detection/Build_TFOD_Models/Tensorflow/images/collectedimages/thumbsup\\thumbsup.2abdcd80-05cb-11ed-862c-34e6d708e641.xml\n",
      "Image:E:\\Tensorflow Object Detection\\Build_TFOD_Models\\Tensorflow\\images\\collectedimages\\thumbsup\\thumbsup.2bf652b5-05cb-11ed-9a78-34e6d708e641.jpg -> Annotation:E:/Tensorflow Object Detection/Build_TFOD_Models/Tensorflow/images/collectedimages/thumbsup\\thumbsup.2bf652b5-05cb-11ed-9a78-34e6d708e641.xml\n",
      "Image:E:\\Tensorflow Object Detection\\Build_TFOD_Models\\Tensorflow\\images\\collectedimages\\thumbsup\\thumbsup.28472c92-05cb-11ed-b686-34e6d708e641.jpg -> Annotation:E:/Tensorflow Object Detection/Build_TFOD_Models/Tensorflow/images/collectedimages/thumbsup\\thumbsup.28472c92-05cb-11ed-b686-34e6d708e641.xml\n",
      "Image:E:\\Tensorflow Object Detection\\Build_TFOD_Models\\Tensorflow\\images\\collectedimages\\thumbsup\\thumbsup.28472c92-05cb-11ed-b686-34e6d708e641.jpg -> Annotation:E:/Tensorflow Object Detection/Build_TFOD_Models/Tensorflow/images/collectedimages/thumbsup\\thumbsup.28472c92-05cb-11ed-b686-34e6d708e641.xml\n",
      "Image:E:\\Tensorflow Object Detection\\Build_TFOD_Models\\Tensorflow\\images\\collectedimages\\thumbsup\\thumbsup.26cb0541-05cb-11ed-8436-34e6d708e641.jpg -> Annotation:E:/Tensorflow Object Detection/Build_TFOD_Models/Tensorflow/images/collectedimages/thumbsup\\thumbsup.26cb0541-05cb-11ed-8436-34e6d708e641.xml\n",
      "Image:E:\\Tensorflow Object Detection\\Build_TFOD_Models\\Tensorflow\\images\\collectedimages\\thumbsup\\thumbsup.29880045-05cb-11ed-b7aa-34e6d708e641.jpg -> Annotation:E:/Tensorflow Object Detection/Build_TFOD_Models/Tensorflow/images/collectedimages/thumbsup\\thumbsup.29880045-05cb-11ed-b7aa-34e6d708e641.xml\n",
      "Image:E:\\Tensorflow Object Detection\\Build_TFOD_Models\\Tensorflow\\images\\collectedimages\\thumbsup\\thumbsup.29880045-05cb-11ed-b7aa-34e6d708e641.jpg -> Annotation:E:/Tensorflow Object Detection/Build_TFOD_Models/Tensorflow/images/collectedimages/thumbsup\\thumbsup.29880045-05cb-11ed-b7aa-34e6d708e641.xml\n",
      "Image:E:\\Tensorflow Object Detection\\Build_TFOD_Models\\Tensorflow\\images\\collectedimages\\victory\\victory.4aa9a144-05cb-11ed-80e2-34e6d708e641.jpg -> Annotation:E:/Tensorflow Object Detection/Build_TFOD_Models/Tensorflow/images/collectedimages/victory\\victory.4aa9a144-05cb-11ed-80e2-34e6d708e641.xml\n",
      "Image:E:\\Tensorflow Object Detection\\Build_TFOD_Models\\Tensorflow\\images\\collectedimages\\victory\\victory.45c53169-05cb-11ed-befd-34e6d708e641.jpg -> Annotation:E:/Tensorflow Object Detection/Build_TFOD_Models/Tensorflow/images/collectedimages/victory\\victory.45c53169-05cb-11ed-befd-34e6d708e641.xml\n",
      "Image:E:\\Tensorflow Object Detection\\Build_TFOD_Models\\Tensorflow\\images\\collectedimages\\victory\\victory.4970b410-05cb-11ed-8715-34e6d708e641.jpg -> Annotation:E:/Tensorflow Object Detection/Build_TFOD_Models/Tensorflow/images/collectedimages/victory\\victory.4970b410-05cb-11ed-8715-34e6d708e641.xml\n",
      "Image:E:\\Tensorflow Object Detection\\Build_TFOD_Models\\Tensorflow\\images\\collectedimages\\victory\\victory.47013cf6-05cb-11ed-a9ce-34e6d708e641.jpg -> Annotation:E:/Tensorflow Object Detection/Build_TFOD_Models/Tensorflow/images/collectedimages/victory\\victory.47013cf6-05cb-11ed-a9ce-34e6d708e641.xml\n",
      "Image:E:\\Tensorflow Object Detection\\Build_TFOD_Models\\Tensorflow\\images\\collectedimages\\victory\\victory.48387426-05cb-11ed-aa2b-34e6d708e641.jpg -> Annotation:E:/Tensorflow Object Detection/Build_TFOD_Models/Tensorflow/images/collectedimages/victory\\victory.48387426-05cb-11ed-aa2b-34e6d708e641.xml\n",
      "Image:E:\\Tensorflow Object Detection\\Build_TFOD_Models\\Tensorflow\\images\\collectedimages\\victory\\victory.48387426-05cb-11ed-aa2b-34e6d708e641.jpg -> Annotation:E:/Tensorflow Object Detection/Build_TFOD_Models/Tensorflow/images/collectedimages/victory\\victory.48387426-05cb-11ed-aa2b-34e6d708e641.xml\n"
     ]
    }
   ],
   "source": [
    "!cd {LABELIMG_PATH} && python labelImg.py"
   ]
  },
  {
   "cell_type": "markdown",
   "id": "0ed77159",
   "metadata": {},
   "source": [
    "### 6-Move The Images Into Training and Test Folders"
   ]
  },
  {
   "cell_type": "raw",
   "id": "a48667fe",
   "metadata": {},
   "source": [
    "We have To Move The Images into Training and test Folders Manually. "
   ]
  },
  {
   "cell_type": "markdown",
   "id": "a2d5ad51",
   "metadata": {},
   "source": [
    "###  7- Compress The Images For Google Colab \n",
    "\n",
    "Note: We Used Google Colab because We don't have access to GPU"
   ]
  },
  {
   "cell_type": "code",
   "execution_count": 12,
   "id": "6586db8e",
   "metadata": {},
   "outputs": [],
   "source": [
    "TRAIN_PATH = os.path.join('Tensorflow','images', 'train')\n",
    "TEST_PATH = os.path.join('Tensorflow','images', 'test')\n",
    "ARCHIVE_PATH = os.path.join('Tensorflow','images','archive.tar.gz')"
   ]
  },
  {
   "cell_type": "code",
   "execution_count": 13,
   "id": "bc54c40b",
   "metadata": {},
   "outputs": [],
   "source": [
    "!tar -czf {ARCHIVE_PATH} {TRAIN_PATH} {TEST_PATH}"
   ]
  },
  {
   "cell_type": "code",
   "execution_count": null,
   "id": "516dc8f9",
   "metadata": {},
   "outputs": [],
   "source": [
    "http://download.tensorflow.org/models/object_detection/tf2/20200711/faster_rcnn_resnet50_v1_640x640_coco17_tpu-8.tar.gz"
   ]
  }
 ],
 "metadata": {
  "kernelspec": {
   "display_name": "Build_TFOD_Models",
   "language": "python",
   "name": "build_tfod_models"
  },
  "language_info": {
   "codemirror_mode": {
    "name": "ipython",
    "version": 3
   },
   "file_extension": ".py",
   "mimetype": "text/x-python",
   "name": "python",
   "nbconvert_exporter": "python",
   "pygments_lexer": "ipython3",
   "version": "3.10.5"
  }
 },
 "nbformat": 4,
 "nbformat_minor": 5
}
